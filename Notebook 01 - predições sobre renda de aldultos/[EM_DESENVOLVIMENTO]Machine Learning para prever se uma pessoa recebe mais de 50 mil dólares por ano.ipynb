{
  "nbformat": 4,
  "nbformat_minor": 0,
  "metadata": {
    "colab": {
      "name": "[EM DESENVOLVIMENTO] Machine Learning para prever se uma pessoa recebe mais de 50 mil dólares por ano",
      "provenance": [],
      "collapsed_sections": [
        "O2euvr5Gy0ci",
        "drPoM0k-zxhP",
        "6F0zkf9zEM6s"
      ]
    },
    "kernelspec": {
      "name": "python3",
      "display_name": "Python 3"
    },
    "language_info": {
      "name": "python"
    }
  },
  "cells": [
    {
      "cell_type": "markdown",
      "metadata": {
        "id": "dHrYm67Bx6Zb"
      },
      "source": [
        "\n",
        "## **Dataset**:\n",
        "O conjunto de dados para este projeto é originário do Repositório de A prendizado de Máquina da UCI (https://archive.ics.uci.edu/ml/datasets/Adult)\n",
        "\n",
        "\n"
      ]
    },
    {
      "cell_type": "markdown",
      "metadata": {
        "id": "O2euvr5Gy0ci"
      },
      "source": [
        "# **Importando os módulos**"
      ]
    },
    {
      "cell_type": "code",
      "metadata": {
        "id": "Qw2xjhuuzGvY"
      },
      "source": [
        "from sklearn.preprocessing import LabelEncoder\n",
        "from sklearn.model_selection import StratifiedKFold\n",
        "from sklearn.pipeline import Pipeline\n",
        "from sklearn.model_selection import RandomizedSearchCV\n",
        "from sklearn import model_selection\n",
        "from sklearn.linear_model import LogisticRegression\n",
        "from sklearn.tree import DecisionTreeClassifier\n",
        "from sklearn.neighbors import KNeighborsClassifier\n",
        "from sklearn.ensemble import RandomForestClassifier\n",
        "from sklearn.naive_bayes import GaussianNB\n",
        "from sklearn.preprocessing import StandardScaler\n",
        "from sklearn.metrics import accuracy_score\n",
        "from sklearn.model_selection import cross_val_predict\n",
        "from sklearn.metrics import confusion_matrix\n",
        "from sklearn.metrics import classification_report\n",
        "from warnings import simplefilter\n",
        "import pickle\n",
        "import pandas as pd\n",
        "import seaborn as sns\n",
        "import matplotlib.pyplot as plt\n",
        "from matplotlib import style\n",
        "import numpy as np\n",
        "\n",
        "style.use('ggplot')\n",
        "simplefilter(action='ignore', category=FutureWarning)\n",
        "%matplotlib inline"
      ],
      "execution_count": 1,
      "outputs": []
    },
    {
      "cell_type": "markdown",
      "metadata": {
        "id": "drPoM0k-zxhP"
      },
      "source": [
        "# **Carregando e visualizando os Dados**"
      ]
    },
    {
      "cell_type": "code",
      "metadata": {
        "id": "AG4DMK0Cz9cB"
      },
      "source": [
        "df = pd.DataFrame()\n",
        "csv = pd.read_csv('adult.data', na_values= '?')\n",
        "df = pd.concat([df,csv])"
      ],
      "execution_count": 2,
      "outputs": []
    },
    {
      "cell_type": "code",
      "metadata": {
        "colab": {
          "base_uri": "https://localhost:8080/",
          "height": 0
        },
        "id": "qZYiR7ab8wAi",
        "outputId": "779e1658-ee77-47b8-beae-98b2e6b74d7e"
      },
      "source": [
        "df.head()"
      ],
      "execution_count": 3,
      "outputs": [
        {
          "output_type": "execute_result",
          "data": {
            "text/html": [
              "<div>\n",
              "<style scoped>\n",
              "    .dataframe tbody tr th:only-of-type {\n",
              "        vertical-align: middle;\n",
              "    }\n",
              "\n",
              "    .dataframe tbody tr th {\n",
              "        vertical-align: top;\n",
              "    }\n",
              "\n",
              "    .dataframe thead th {\n",
              "        text-align: right;\n",
              "    }\n",
              "</style>\n",
              "<table border=\"1\" class=\"dataframe\">\n",
              "  <thead>\n",
              "    <tr style=\"text-align: right;\">\n",
              "      <th></th>\n",
              "      <th>age</th>\n",
              "      <th>workclass</th>\n",
              "      <th>education</th>\n",
              "      <th>education-num</th>\n",
              "      <th>marital-status</th>\n",
              "      <th>occupation</th>\n",
              "      <th>relationship</th>\n",
              "      <th>race</th>\n",
              "      <th>sex</th>\n",
              "      <th>capital-gain</th>\n",
              "      <th>capital-loss</th>\n",
              "      <th>hours-per-week</th>\n",
              "      <th>native-country</th>\n",
              "      <th>income</th>\n",
              "    </tr>\n",
              "  </thead>\n",
              "  <tbody>\n",
              "    <tr>\n",
              "      <th>0</th>\n",
              "      <td>39</td>\n",
              "      <td>State-gov</td>\n",
              "      <td>Bachelors</td>\n",
              "      <td>13</td>\n",
              "      <td>Never-married</td>\n",
              "      <td>Adm-clerical</td>\n",
              "      <td>Not-in-family</td>\n",
              "      <td>White</td>\n",
              "      <td>Male</td>\n",
              "      <td>2174</td>\n",
              "      <td>0</td>\n",
              "      <td>40</td>\n",
              "      <td>United-States</td>\n",
              "      <td>&lt;=50K</td>\n",
              "    </tr>\n",
              "    <tr>\n",
              "      <th>1</th>\n",
              "      <td>50</td>\n",
              "      <td>Self-emp-not-inc</td>\n",
              "      <td>Bachelors</td>\n",
              "      <td>13</td>\n",
              "      <td>Married-civ-spouse</td>\n",
              "      <td>Exec-managerial</td>\n",
              "      <td>Husband</td>\n",
              "      <td>White</td>\n",
              "      <td>Male</td>\n",
              "      <td>0</td>\n",
              "      <td>0</td>\n",
              "      <td>13</td>\n",
              "      <td>United-States</td>\n",
              "      <td>&lt;=50K</td>\n",
              "    </tr>\n",
              "    <tr>\n",
              "      <th>2</th>\n",
              "      <td>38</td>\n",
              "      <td>Private</td>\n",
              "      <td>HS-grad</td>\n",
              "      <td>9</td>\n",
              "      <td>Divorced</td>\n",
              "      <td>Handlers-cleaners</td>\n",
              "      <td>Not-in-family</td>\n",
              "      <td>White</td>\n",
              "      <td>Male</td>\n",
              "      <td>0</td>\n",
              "      <td>0</td>\n",
              "      <td>40</td>\n",
              "      <td>United-States</td>\n",
              "      <td>&lt;=50K</td>\n",
              "    </tr>\n",
              "    <tr>\n",
              "      <th>3</th>\n",
              "      <td>53</td>\n",
              "      <td>Private</td>\n",
              "      <td>11th</td>\n",
              "      <td>7</td>\n",
              "      <td>Married-civ-spouse</td>\n",
              "      <td>Handlers-cleaners</td>\n",
              "      <td>Husband</td>\n",
              "      <td>Black</td>\n",
              "      <td>Male</td>\n",
              "      <td>0</td>\n",
              "      <td>0</td>\n",
              "      <td>40</td>\n",
              "      <td>United-States</td>\n",
              "      <td>&lt;=50K</td>\n",
              "    </tr>\n",
              "    <tr>\n",
              "      <th>4</th>\n",
              "      <td>28</td>\n",
              "      <td>Private</td>\n",
              "      <td>Bachelors</td>\n",
              "      <td>13</td>\n",
              "      <td>Married-civ-spouse</td>\n",
              "      <td>Prof-specialty</td>\n",
              "      <td>Wife</td>\n",
              "      <td>Black</td>\n",
              "      <td>Female</td>\n",
              "      <td>0</td>\n",
              "      <td>0</td>\n",
              "      <td>40</td>\n",
              "      <td>Cuba</td>\n",
              "      <td>&lt;=50K</td>\n",
              "    </tr>\n",
              "  </tbody>\n",
              "</table>\n",
              "</div>"
            ],
            "text/plain": [
              "   age         workclass  education  ...  hours-per-week native-country income\n",
              "0   39         State-gov  Bachelors  ...              40  United-States  <=50K\n",
              "1   50  Self-emp-not-inc  Bachelors  ...              13  United-States  <=50K\n",
              "2   38           Private    HS-grad  ...              40  United-States  <=50K\n",
              "3   53           Private       11th  ...              40  United-States  <=50K\n",
              "4   28           Private  Bachelors  ...              40           Cuba  <=50K\n",
              "\n",
              "[5 rows x 14 columns]"
            ]
          },
          "metadata": {},
          "execution_count": 3
        }
      ]
    },
    {
      "cell_type": "markdown",
      "metadata": {
        "id": "HhQ8LR8H9Jo4"
      },
      "source": [
        "\n",
        "\n",
        "# **Descrição dos dados por cabeçalho**\n",
        "\n",
        "* **age**: Idade\n",
        "\n",
        "* **workclass**: Classe trabalhadora (Funcionário público, autônomo, empresário...)\n",
        "\n",
        "* **education**: Escolaridade\n",
        "\n",
        "* **education-num**: Código do Nível de Escolaridade\n",
        "\n",
        "* **marital-status**: Estado Civil\n",
        "\n",
        "* **occupation**: Ocupação\n",
        "\n",
        "* **relationship**: Relacionamento \n",
        "\n",
        "* **race**: Raça\n",
        "\n",
        "* **sex**: Sexo\n",
        "\n",
        "* **capital**-gain: Ganho de Capital\n",
        "\n",
        "* **capital-loss**: Perda de Capital\n",
        "\n",
        "* **hours-per-week**: Horas de trabalho semanais\n",
        "\n",
        "* **native-country**: País Nativo"
      ]
    },
    {
      "cell_type": "markdown",
      "metadata": {
        "id": "6F0zkf9zEM6s"
      },
      "source": [
        "# **Informação sobre as colunas**\n"
      ]
    },
    {
      "cell_type": "code",
      "metadata": {
        "id": "UC_9Ywys51uZ",
        "colab": {
          "base_uri": "https://localhost:8080/"
        },
        "outputId": "0e36ac82-ba2a-4b35-9900-e8764cf53db5"
      },
      "source": [
        "df.info()"
      ],
      "execution_count": 4,
      "outputs": [
        {
          "output_type": "stream",
          "name": "stdout",
          "text": [
            "<class 'pandas.core.frame.DataFrame'>\n",
            "RangeIndex: 32561 entries, 0 to 32560\n",
            "Data columns (total 14 columns):\n",
            " #   Column          Non-Null Count  Dtype \n",
            "---  ------          --------------  ----- \n",
            " 0   age             32561 non-null  int64 \n",
            " 1   workclass       30725 non-null  object\n",
            " 2   education       32561 non-null  object\n",
            " 3   education-num   32561 non-null  int64 \n",
            " 4   marital-status  32561 non-null  object\n",
            " 5   occupation      30718 non-null  object\n",
            " 6   relationship    32561 non-null  object\n",
            " 7   race            32561 non-null  object\n",
            " 8   sex             32561 non-null  object\n",
            " 9   capital-gain    32561 non-null  int64 \n",
            " 10  capital-loss    32561 non-null  int64 \n",
            " 11  hours-per-week  32561 non-null  int64 \n",
            " 12  native-country  31978 non-null  object\n",
            " 13  income          32561 non-null  object\n",
            "dtypes: int64(5), object(9)\n",
            "memory usage: 3.5+ MB\n"
          ]
        }
      ]
    },
    {
      "cell_type": "code",
      "metadata": {
        "colab": {
          "base_uri": "https://localhost:8080/",
          "height": 297
        },
        "id": "ydQfKEB8EvBz",
        "outputId": "b99ed022-ffea-4fab-8487-239508ea093b"
      },
      "source": [
        "#Variáveis numéricas\n",
        "df.describe()"
      ],
      "execution_count": 5,
      "outputs": [
        {
          "output_type": "execute_result",
          "data": {
            "text/html": [
              "<div>\n",
              "<style scoped>\n",
              "    .dataframe tbody tr th:only-of-type {\n",
              "        vertical-align: middle;\n",
              "    }\n",
              "\n",
              "    .dataframe tbody tr th {\n",
              "        vertical-align: top;\n",
              "    }\n",
              "\n",
              "    .dataframe thead th {\n",
              "        text-align: right;\n",
              "    }\n",
              "</style>\n",
              "<table border=\"1\" class=\"dataframe\">\n",
              "  <thead>\n",
              "    <tr style=\"text-align: right;\">\n",
              "      <th></th>\n",
              "      <th>age</th>\n",
              "      <th>education-num</th>\n",
              "      <th>capital-gain</th>\n",
              "      <th>capital-loss</th>\n",
              "      <th>hours-per-week</th>\n",
              "    </tr>\n",
              "  </thead>\n",
              "  <tbody>\n",
              "    <tr>\n",
              "      <th>count</th>\n",
              "      <td>32561.000000</td>\n",
              "      <td>32561.000000</td>\n",
              "      <td>32561.000000</td>\n",
              "      <td>32561.000000</td>\n",
              "      <td>32561.000000</td>\n",
              "    </tr>\n",
              "    <tr>\n",
              "      <th>mean</th>\n",
              "      <td>38.581647</td>\n",
              "      <td>10.080679</td>\n",
              "      <td>1077.648844</td>\n",
              "      <td>87.303830</td>\n",
              "      <td>40.437456</td>\n",
              "    </tr>\n",
              "    <tr>\n",
              "      <th>std</th>\n",
              "      <td>13.640433</td>\n",
              "      <td>2.572720</td>\n",
              "      <td>7385.292085</td>\n",
              "      <td>402.960219</td>\n",
              "      <td>12.347429</td>\n",
              "    </tr>\n",
              "    <tr>\n",
              "      <th>min</th>\n",
              "      <td>17.000000</td>\n",
              "      <td>1.000000</td>\n",
              "      <td>0.000000</td>\n",
              "      <td>0.000000</td>\n",
              "      <td>1.000000</td>\n",
              "    </tr>\n",
              "    <tr>\n",
              "      <th>25%</th>\n",
              "      <td>28.000000</td>\n",
              "      <td>9.000000</td>\n",
              "      <td>0.000000</td>\n",
              "      <td>0.000000</td>\n",
              "      <td>40.000000</td>\n",
              "    </tr>\n",
              "    <tr>\n",
              "      <th>50%</th>\n",
              "      <td>37.000000</td>\n",
              "      <td>10.000000</td>\n",
              "      <td>0.000000</td>\n",
              "      <td>0.000000</td>\n",
              "      <td>40.000000</td>\n",
              "    </tr>\n",
              "    <tr>\n",
              "      <th>75%</th>\n",
              "      <td>48.000000</td>\n",
              "      <td>12.000000</td>\n",
              "      <td>0.000000</td>\n",
              "      <td>0.000000</td>\n",
              "      <td>45.000000</td>\n",
              "    </tr>\n",
              "    <tr>\n",
              "      <th>max</th>\n",
              "      <td>90.000000</td>\n",
              "      <td>16.000000</td>\n",
              "      <td>99999.000000</td>\n",
              "      <td>4356.000000</td>\n",
              "      <td>99.000000</td>\n",
              "    </tr>\n",
              "  </tbody>\n",
              "</table>\n",
              "</div>"
            ],
            "text/plain": [
              "                age  education-num  capital-gain  capital-loss  hours-per-week\n",
              "count  32561.000000   32561.000000  32561.000000  32561.000000    32561.000000\n",
              "mean      38.581647      10.080679   1077.648844     87.303830       40.437456\n",
              "std       13.640433       2.572720   7385.292085    402.960219       12.347429\n",
              "min       17.000000       1.000000      0.000000      0.000000        1.000000\n",
              "25%       28.000000       9.000000      0.000000      0.000000       40.000000\n",
              "50%       37.000000      10.000000      0.000000      0.000000       40.000000\n",
              "75%       48.000000      12.000000      0.000000      0.000000       45.000000\n",
              "max       90.000000      16.000000  99999.000000   4356.000000       99.000000"
            ]
          },
          "metadata": {},
          "execution_count": 5
        }
      ]
    },
    {
      "cell_type": "code",
      "metadata": {
        "colab": {
          "base_uri": "https://localhost:8080/",
          "height": 207
        },
        "id": "Rit0oPxiHouZ",
        "outputId": "c8a91a32-7de2-4437-afaf-96adf947f988"
      },
      "source": [
        "# Variáveis categóricas\n",
        "df.describe(include=['O'])"
      ],
      "execution_count": 6,
      "outputs": [
        {
          "output_type": "execute_result",
          "data": {
            "text/html": [
              "<div>\n",
              "<style scoped>\n",
              "    .dataframe tbody tr th:only-of-type {\n",
              "        vertical-align: middle;\n",
              "    }\n",
              "\n",
              "    .dataframe tbody tr th {\n",
              "        vertical-align: top;\n",
              "    }\n",
              "\n",
              "    .dataframe thead th {\n",
              "        text-align: right;\n",
              "    }\n",
              "</style>\n",
              "<table border=\"1\" class=\"dataframe\">\n",
              "  <thead>\n",
              "    <tr style=\"text-align: right;\">\n",
              "      <th></th>\n",
              "      <th>workclass</th>\n",
              "      <th>education</th>\n",
              "      <th>marital-status</th>\n",
              "      <th>occupation</th>\n",
              "      <th>relationship</th>\n",
              "      <th>race</th>\n",
              "      <th>sex</th>\n",
              "      <th>native-country</th>\n",
              "      <th>income</th>\n",
              "    </tr>\n",
              "  </thead>\n",
              "  <tbody>\n",
              "    <tr>\n",
              "      <th>count</th>\n",
              "      <td>30725</td>\n",
              "      <td>32561</td>\n",
              "      <td>32561</td>\n",
              "      <td>30718</td>\n",
              "      <td>32561</td>\n",
              "      <td>32561</td>\n",
              "      <td>32561</td>\n",
              "      <td>31978</td>\n",
              "      <td>32561</td>\n",
              "    </tr>\n",
              "    <tr>\n",
              "      <th>unique</th>\n",
              "      <td>8</td>\n",
              "      <td>16</td>\n",
              "      <td>7</td>\n",
              "      <td>14</td>\n",
              "      <td>6</td>\n",
              "      <td>5</td>\n",
              "      <td>2</td>\n",
              "      <td>41</td>\n",
              "      <td>2</td>\n",
              "    </tr>\n",
              "    <tr>\n",
              "      <th>top</th>\n",
              "      <td>Private</td>\n",
              "      <td>HS-grad</td>\n",
              "      <td>Married-civ-spouse</td>\n",
              "      <td>Prof-specialty</td>\n",
              "      <td>Husband</td>\n",
              "      <td>White</td>\n",
              "      <td>Male</td>\n",
              "      <td>United-States</td>\n",
              "      <td>&lt;=50K</td>\n",
              "    </tr>\n",
              "    <tr>\n",
              "      <th>freq</th>\n",
              "      <td>22696</td>\n",
              "      <td>10501</td>\n",
              "      <td>14976</td>\n",
              "      <td>4140</td>\n",
              "      <td>13193</td>\n",
              "      <td>27816</td>\n",
              "      <td>21790</td>\n",
              "      <td>29170</td>\n",
              "      <td>24720</td>\n",
              "    </tr>\n",
              "  </tbody>\n",
              "</table>\n",
              "</div>"
            ],
            "text/plain": [
              "       workclass education      marital-status  ...    sex native-country income\n",
              "count      30725     32561               32561  ...  32561          31978  32561\n",
              "unique         8        16                   7  ...      2             41      2\n",
              "top      Private   HS-grad  Married-civ-spouse  ...   Male  United-States  <=50K\n",
              "freq       22696     10501               14976  ...  21790          29170  24720\n",
              "\n",
              "[4 rows x 9 columns]"
            ]
          },
          "metadata": {},
          "execution_count": 6
        }
      ]
    },
    {
      "cell_type": "markdown",
      "metadata": {
        "id": "GtNZCvU6NCJw"
      },
      "source": [
        "# **Análise exploratória**"
      ]
    },
    {
      "cell_type": "code",
      "metadata": {
        "colab": {
          "base_uri": "https://localhost:8080/",
          "height": 403
        },
        "id": "kx1jY0FyNLMD",
        "outputId": "99152cc6-0eb1-4f4e-9d0b-d48f244ebd2b"
      },
      "source": [
        "#Distribuição das idades\n",
        "sns.catplot(x='age',kind='violin',data=df, color= '#34ebbd')"
      ],
      "execution_count": 7,
      "outputs": [
        {
          "output_type": "execute_result",
          "data": {
            "text/plain": [
              "<seaborn.axisgrid.FacetGrid at 0x7f21b56f2ed0>"
            ]
          },
          "metadata": {},
          "execution_count": 7
        },
        {
          "output_type": "display_data",
          "data": {
            "image/png": "[encoded data removed]",
            "text/plain": [
              "<Figure size 360x360 with 1 Axes>"
            ]
          },
          "metadata": {
            "needs_background": "light"
          }
        }
      ]
    },
    {
      "cell_type": "code",
      "metadata": {
        "colab": {
          "base_uri": "https://localhost:8080/",
          "height": 437
        },
        "id": "kQiCmIeeO6ag",
        "outputId": "e15b6259-8fe5-4591-9b60-8c28b81e02c6"
      },
      "source": [
        "#Distribuição dos salários\n",
        "sns.catplot(data=df, x='income',kind='count', palette='crest')\n",
        "df['income'].value_counts()"
      ],
      "execution_count": 8,
      "outputs": [
        {
          "output_type": "execute_result",
          "data": {
            "text/plain": [
              "<=50K    24720\n",
              ">50K      7841\n",
              "Name: income, dtype: int64"
            ]
          },
          "metadata": {},
          "execution_count": 8
        },
        {
          "output_type": "display_data",
          "data": {
            "image/png": "[encoded data removed]",
            "text/plain": [
              "<Figure size 360x360 with 1 Axes>"
            ]
          },
          "metadata": {
            "needs_background": "light"
          }
        }
      ]
    },
    {
      "cell_type": "code",
      "metadata": {
        "colab": {
          "base_uri": "https://localhost:8080/"
        },
        "id": "2AKMFc-OcBfC",
        "outputId": "f96b1ab0-4eb7-408d-b313-d2e6f7b5a6ef"
      },
      "source": [
        "#Quantidade de pessoas por nível de escolaridade\n",
        "df['education'].value_counts()"
      ],
      "execution_count": 9,
      "outputs": [
        {
          "output_type": "execute_result",
          "data": {
            "text/plain": [
              "HS-grad         10501\n",
              "Some-college     7291\n",
              "Bachelors        5355\n",
              "Masters          1723\n",
              "Assoc-voc        1382\n",
              "11th             1175\n",
              "Assoc-acdm       1067\n",
              "10th              933\n",
              "7th-8th           646\n",
              "Prof-school       576\n",
              "9th               514\n",
              "12th              433\n",
              "Doctorate         413\n",
              "5th-6th           333\n",
              "1st-4th           168\n",
              "Preschool          51\n",
              "Name: education, dtype: int64"
            ]
          },
          "metadata": {},
          "execution_count": 9
        }
      ]
    },
    {
      "cell_type": "code",
      "metadata": {
        "colab": {
          "base_uri": "https://localhost:8080/",
          "height": 626
        },
        "id": "0O2V3qFLWp_Z",
        "outputId": "4716fa6f-4d42-4e0f-9533-a7615c9134df"
      },
      "source": [
        "# Distribuição de renda por nível de escolaridade\n",
        "plt.figure(figsize=(20.5,10))\n",
        "sns.countplot(data=df, x = 'education',  hue = 'income', palette= 'crest')\n",
        "plt.xticks(rotation='horizontal')\n",
        "plt.legend(bbox_to_anchor=(1, 1), loc=1)"
      ],
      "execution_count": 10,
      "outputs": [
        {
          "output_type": "execute_result",
          "data": {
            "text/plain": [
              "<matplotlib.legend.Legend at 0x7f21a9ef0cd0>"
            ]
          },
          "metadata": {},
          "execution_count": 10
        },
        {
          "output_type": "display_data",
          "data": {
            "image/png": "[encoded data removed]",
            "text/plain": [
              "<Figure size 1476x720 with 1 Axes>"
            ]
          },
          "metadata": {
            "needs_background": "light"
          }
        }
      ]
    },
    {
      "cell_type": "code",
      "metadata": {
        "colab": {
          "base_uri": "https://localhost:8080/",
          "height": 408
        },
        "id": "15u-gfnlgNZG",
        "outputId": "17e7e289-3a5a-4be8-ddac-c8bf0d789f43"
      },
      "source": [
        "# Para uma melhor visualização, agrupei as horas trabalhadas em 3 categorias:\n",
        "# 0-30 (jornada curta)\n",
        "# 30-40 (jornada normal)\n",
        "# 40-100 (jornada longa)\n",
        "\n",
        "# Criando novo data frame para armazenar as jornadas divididas em grupos\n",
        "df_jornadas = pd.DataFrame() \n",
        "df_jornadas = pd.concat([df,df_jornadas])\n",
        "df_jornadas['hours-per-week'] = pd.cut(df_jornadas['hours-per-week'],[0,30,40,100], labels =['short','normal','extra'])\n",
        "\n",
        "# Distribuição das classes por Horas trabalhadas\n",
        "plt.figure(figsize=(8,6))\n",
        "sns.countplot(data=df_jornadas, x = 'hours-per-week',  hue = 'income', palette='crest')\n",
        "plt.xticks(rotation='horizontal')"
      ],
      "execution_count": 11,
      "outputs": [
        {
          "output_type": "execute_result",
          "data": {
            "text/plain": [
              "(array([0, 1, 2]), <a list of 3 Text major ticklabel objects>)"
            ]
          },
          "metadata": {},
          "execution_count": 11
        },
        {
          "output_type": "display_data",
          "data": {
            "image/png": "[encoded data removed]",
            "text/plain": [
              "<Figure size 576x432 with 1 Axes>"
            ]
          },
          "metadata": {
            "needs_background": "light"
          }
        }
      ]
    },
    {
      "cell_type": "code",
      "metadata": {
        "colab": {
          "base_uri": "https://localhost:8080/",
          "height": 390
        },
        "id": "nJ9ItIkGq9tI",
        "outputId": "93364304-ab21-4967-b2a6-d1b9ae3991fc"
      },
      "source": [
        "# Distribuiçao de renda de acordo com a ocupação\n",
        "\n",
        "plt.figure(figsize=(25,10))\n",
        "sns.countplot(data=df, x = 'occupation', hue = 'income', palette= 'crest')\n",
        "plt.xticks(rotation='horizontal')"
      ],
      "execution_count": 12,
      "outputs": [
        {
          "output_type": "execute_result",
          "data": {
            "text/plain": [
              "(array([ 0,  1,  2,  3,  4,  5,  6,  7,  8,  9, 10, 11, 12, 13]),\n",
              " <a list of 14 Text major ticklabel objects>)"
            ]
          },
          "metadata": {},
          "execution_count": 12
        },
        {
          "output_type": "display_data",
          "data": {
            "image/png": "[encoded data removed]",
            "text/plain": [
              "<Figure size 1800x720 with 1 Axes>"
            ]
          },
          "metadata": {
            "needs_background": "light"
          }
        }
      ]
    },
    {
      "cell_type": "code",
      "metadata": {
        "colab": {
          "base_uri": "https://localhost:8080/"
        },
        "id": "P8WbIJF7tPoj",
        "outputId": "bb946b0c-bc17-47a4-8c84-9aa8c95e92cc"
      },
      "source": [
        "#Quantidade de pessoas por nível de ocupação\n",
        "df['occupation'].value_counts()"
      ],
      "execution_count": 13,
      "outputs": [
        {
          "output_type": "execute_result",
          "data": {
            "text/plain": [
              "Prof-specialty       4140\n",
              "Craft-repair         4099\n",
              "Exec-managerial      4066\n",
              "Adm-clerical         3770\n",
              "Sales                3650\n",
              "Other-service        3295\n",
              "Machine-op-inspct    2002\n",
              "Transport-moving     1597\n",
              "Handlers-cleaners    1370\n",
              "Farming-fishing       994\n",
              "Tech-support          928\n",
              "Protective-serv       649\n",
              "Priv-house-serv       149\n",
              "Armed-Forces            9\n",
              "Name: occupation, dtype: int64"
            ]
          },
          "metadata": {},
          "execution_count": 13
        }
      ]
    },
    {
      "cell_type": "markdown",
      "metadata": {
        "id": "JR4BBE0wwOYP"
      },
      "source": [
        "### Relação de **idade** (coluna age) com a coluna **income** (salário anual)\n"
      ]
    },
    {
      "cell_type": "code",
      "metadata": {
        "colab": {
          "base_uri": "https://localhost:8080/",
          "height": 408
        },
        "id": "_md5pnpat-A0",
        "outputId": "f2aabd8e-db7d-4c7e-8fd1-2c34fe18b225"
      },
      "source": [
        "# Para uma melhor visualização, agrupei as idades em 3 categorias:\n",
        "# 0-25 (jovens)\n",
        "# 25-50 (adultos)\n",
        "# 50-100 (idosos)\n",
        "\n",
        "# Criando novo data frame para armazenar as idades divididas em grupos\n",
        "df_idades = pd.DataFrame()\n",
        "df_idades = pd.concat([df_idades,df])\n",
        "# Dividindo as idades em grupos\n",
        "df_idades['age'] = pd.cut(df_idades['age'], [0,25,50,100], labels= ['jovens', 'adultos', 'idosos'])\n",
        "\n",
        "#Plotando o gráfico\n",
        "plt.figure(figsize=(8,6))\n",
        "sns.countplot(data=df_idades, x = 'age', hue = 'income', palette= 'crest')"
      ],
      "execution_count": 14,
      "outputs": [
        {
          "output_type": "execute_result",
          "data": {
            "text/plain": [
              "<matplotlib.axes._subplots.AxesSubplot at 0x7f21a9c6f310>"
            ]
          },
          "metadata": {},
          "execution_count": 14
        },
        {
          "output_type": "display_data",
          "data": {
            "image/png": "[encoded data removed]",
            "text/plain": [
              "<Figure size 576x432 with 1 Axes>"
            ]
          },
          "metadata": {
            "needs_background": "light"
          }
        }
      ]
    },
    {
      "cell_type": "markdown",
      "metadata": {
        "id": "lxOs_Oj1tiAv"
      },
      "source": [
        "### Relação de **sexo** (coluna sex) com a coluna **income** (salário anual)\n"
      ]
    },
    {
      "cell_type": "code",
      "metadata": {
        "colab": {
          "base_uri": "https://localhost:8080/",
          "height": 0
        },
        "id": "b9ro7B1EwecU",
        "outputId": "44e639ff-2c01-43c5-ca83-ad540d4f228b"
      },
      "source": [
        "plt.figure(figsize=(8,6))\n",
        "sns.countplot(data=df, x = 'sex', hue = 'income', palette= 'crest')"
      ],
      "execution_count": 15,
      "outputs": [
        {
          "output_type": "execute_result",
          "data": {
            "text/plain": [
              "<matplotlib.axes._subplots.AxesSubplot at 0x7f21a9c1be10>"
            ]
          },
          "metadata": {},
          "execution_count": 15
        },
        {
          "output_type": "display_data",
          "data": {
            "image/png": "[encoded data removed]",
            "text/plain": [
              "<Figure size 576x432 with 1 Axes>"
            ]
          },
          "metadata": {
            "needs_background": "light"
          }
        }
      ]
    },
    {
      "cell_type": "markdown",
      "metadata": {
        "id": "0ubRPovZwT1u"
      },
      "source": [
        "### Relação de **raça** (coluna race) com a coluna **income** (salário anual)\n"
      ]
    },
    {
      "cell_type": "code",
      "metadata": {
        "colab": {
          "base_uri": "https://localhost:8080/",
          "height": 0
        },
        "id": "4WMABscbxhn9",
        "outputId": "9b74e09a-0e63-4a75-8983-baf3fed9b5b3"
      },
      "source": [
        "plt.figure(figsize=(10,6))\n",
        "sns.countplot(data=df, y = 'race', hue = 'income', palette= 'crest')"
      ],
      "execution_count": 16,
      "outputs": [
        {
          "output_type": "execute_result",
          "data": {
            "text/plain": [
              "<matplotlib.axes._subplots.AxesSubplot at 0x7f21a9bafad0>"
            ]
          },
          "metadata": {},
          "execution_count": 16
        },
        {
          "output_type": "display_data",
          "data": {
            "image/png": "[encoded data removed]",
            "text/plain": [
              "<Figure size 720x432 with 1 Axes>"
            ]
          },
          "metadata": {
            "needs_background": "light"
          }
        }
      ]
    },
    {
      "cell_type": "markdown",
      "metadata": {
        "id": "qJE5SjQlzJqD"
      },
      "source": [
        "# **Análise de dados**\n",
        "\n",
        "\n",
        "\n",
        "\n"
      ]
    },
    {
      "cell_type": "code",
      "metadata": {
        "id": "WI9v9nahzlUt",
        "colab": {
          "base_uri": "https://localhost:8080/",
          "height": 0
        },
        "outputId": "a31876d0-2f90-4e41-a366-a66b0f1c9976"
      },
      "source": [
        "# Verificando a quantidade de valores nulos\n",
        "total = df.isnull().sum().sort_values(ascending=False)\n",
        "porcentagem = df.isnull().sum()/df.isnull().count().sort_values(ascending=False) * 100 \n",
        "dados_faltando = pd.concat([total, porcentagem], axis=1, sort=False, keys=['total', 'porcentagem'])\n",
        "dados_faltando[dados_faltando['porcentagem']!=0]"
      ],
      "execution_count": 17,
      "outputs": [
        {
          "output_type": "execute_result",
          "data": {
            "text/html": [
              "<div>\n",
              "<style scoped>\n",
              "    .dataframe tbody tr th:only-of-type {\n",
              "        vertical-align: middle;\n",
              "    }\n",
              "\n",
              "    .dataframe tbody tr th {\n",
              "        vertical-align: top;\n",
              "    }\n",
              "\n",
              "    .dataframe thead th {\n",
              "        text-align: right;\n",
              "    }\n",
              "</style>\n",
              "<table border=\"1\" class=\"dataframe\">\n",
              "  <thead>\n",
              "    <tr style=\"text-align: right;\">\n",
              "      <th></th>\n",
              "      <th>total</th>\n",
              "      <th>porcentagem</th>\n",
              "    </tr>\n",
              "  </thead>\n",
              "  <tbody>\n",
              "    <tr>\n",
              "      <th>occupation</th>\n",
              "      <td>1843</td>\n",
              "      <td>5.660146</td>\n",
              "    </tr>\n",
              "    <tr>\n",
              "      <th>workclass</th>\n",
              "      <td>1836</td>\n",
              "      <td>5.638647</td>\n",
              "    </tr>\n",
              "    <tr>\n",
              "      <th>native-country</th>\n",
              "      <td>583</td>\n",
              "      <td>1.790486</td>\n",
              "    </tr>\n",
              "  </tbody>\n",
              "</table>\n",
              "</div>"
            ],
            "text/plain": [
              "                total  porcentagem\n",
              "occupation       1843     5.660146\n",
              "workclass        1836     5.638647\n",
              "native-country    583     1.790486"
            ]
          },
          "metadata": {},
          "execution_count": 17
        }
      ]
    },
    {
      "cell_type": "code",
      "metadata": {
        "id": "pY9XhVRATRy2"
      },
      "source": [
        "# Preenchendo os valores nulos da coluna workclass\n",
        "nulos_workclass = 'Private'\n",
        "df['workclass'] = df['workclass'].fillna(nulos_workclass)"
      ],
      "execution_count": 18,
      "outputs": []
    },
    {
      "cell_type": "code",
      "metadata": {
        "id": "ZnRMgNp7UrQ2"
      },
      "source": [
        "# Preenchendo os valores nulos da coluna occupation\n",
        "nulos_occupation = 'Prof-specialty'\n",
        "df['occupation'] = df['occupation'].fillna(nulos_occupation)"
      ],
      "execution_count": 19,
      "outputs": []
    },
    {
      "cell_type": "code",
      "metadata": {
        "id": "xsx5ehkgVcFU"
      },
      "source": [
        "# Preenchendo os valores nulos da coluna native-country\n",
        "nulos_native_country = 'United-States'\n",
        "df['native-country'] = df['native-country'].fillna(nulos_native_country)"
      ],
      "execution_count": 20,
      "outputs": []
    },
    {
      "cell_type": "code",
      "metadata": {
        "colab": {
          "base_uri": "https://localhost:8080/"
        },
        "id": "y6mut7-lWG03",
        "outputId": "00785e97-e77c-4fd0-bf3e-bac10df74711"
      },
      "source": [
        "# Verificando se ainda existem valores nulos no Dataset.\n",
        "if df.isnull().sum().any() !=0:\n",
        "  print('Existem valores nulos')\n",
        "else: print('Não existem valores nulos')\n",
        " "
      ],
      "execution_count": 21,
      "outputs": [
        {
          "output_type": "stream",
          "name": "stdout",
          "text": [
            "Não existem valores nulos\n"
          ]
        }
      ]
    },
    {
      "cell_type": "code",
      "metadata": {
        "id": "isbGqeQzX8-N"
      },
      "source": [
        "# Calculado a coluna capital_last (Subtração do capital ganho - capital perdido)\n",
        "df['capital_last'] = df['capital-gain'] - df['capital-loss']"
      ],
      "execution_count": 22,
      "outputs": []
    },
    {
      "cell_type": "code",
      "metadata": {
        "id": "h5xB8UYKZeew",
        "colab": {
          "base_uri": "https://localhost:8080/",
          "height": 0
        },
        "outputId": "3e7088a8-4f3a-4b9a-b2a5-0a0d6ad5e6a7"
      },
      "source": [
        "# Removendo as colunas capital-loss e capital-gain (foram substituidas pela coluna capital_last)\n",
        "def remover_colunas(colunas):\n",
        "  for i in colunas:\n",
        "    df.drop(i, axis=1, inplace=True)\n",
        "\n",
        "remover_colunas(['capital-gain', 'capital-loss','education'])\n",
        "df.head()"
      ],
      "execution_count": 23,
      "outputs": [
        {
          "output_type": "execute_result",
          "data": {
            "text/html": [
              "<div>\n",
              "<style scoped>\n",
              "    .dataframe tbody tr th:only-of-type {\n",
              "        vertical-align: middle;\n",
              "    }\n",
              "\n",
              "    .dataframe tbody tr th {\n",
              "        vertical-align: top;\n",
              "    }\n",
              "\n",
              "    .dataframe thead th {\n",
              "        text-align: right;\n",
              "    }\n",
              "</style>\n",
              "<table border=\"1\" class=\"dataframe\">\n",
              "  <thead>\n",
              "    <tr style=\"text-align: right;\">\n",
              "      <th></th>\n",
              "      <th>age</th>\n",
              "      <th>workclass</th>\n",
              "      <th>education-num</th>\n",
              "      <th>marital-status</th>\n",
              "      <th>occupation</th>\n",
              "      <th>relationship</th>\n",
              "      <th>race</th>\n",
              "      <th>sex</th>\n",
              "      <th>hours-per-week</th>\n",
              "      <th>native-country</th>\n",
              "      <th>income</th>\n",
              "      <th>capital_last</th>\n",
              "    </tr>\n",
              "  </thead>\n",
              "  <tbody>\n",
              "    <tr>\n",
              "      <th>0</th>\n",
              "      <td>39</td>\n",
              "      <td>State-gov</td>\n",
              "      <td>13</td>\n",
              "      <td>Never-married</td>\n",
              "      <td>Adm-clerical</td>\n",
              "      <td>Not-in-family</td>\n",
              "      <td>White</td>\n",
              "      <td>Male</td>\n",
              "      <td>40</td>\n",
              "      <td>United-States</td>\n",
              "      <td>&lt;=50K</td>\n",
              "      <td>2174</td>\n",
              "    </tr>\n",
              "    <tr>\n",
              "      <th>1</th>\n",
              "      <td>50</td>\n",
              "      <td>Self-emp-not-inc</td>\n",
              "      <td>13</td>\n",
              "      <td>Married-civ-spouse</td>\n",
              "      <td>Exec-managerial</td>\n",
              "      <td>Husband</td>\n",
              "      <td>White</td>\n",
              "      <td>Male</td>\n",
              "      <td>13</td>\n",
              "      <td>United-States</td>\n",
              "      <td>&lt;=50K</td>\n",
              "      <td>0</td>\n",
              "    </tr>\n",
              "    <tr>\n",
              "      <th>2</th>\n",
              "      <td>38</td>\n",
              "      <td>Private</td>\n",
              "      <td>9</td>\n",
              "      <td>Divorced</td>\n",
              "      <td>Handlers-cleaners</td>\n",
              "      <td>Not-in-family</td>\n",
              "      <td>White</td>\n",
              "      <td>Male</td>\n",
              "      <td>40</td>\n",
              "      <td>United-States</td>\n",
              "      <td>&lt;=50K</td>\n",
              "      <td>0</td>\n",
              "    </tr>\n",
              "    <tr>\n",
              "      <th>3</th>\n",
              "      <td>53</td>\n",
              "      <td>Private</td>\n",
              "      <td>7</td>\n",
              "      <td>Married-civ-spouse</td>\n",
              "      <td>Handlers-cleaners</td>\n",
              "      <td>Husband</td>\n",
              "      <td>Black</td>\n",
              "      <td>Male</td>\n",
              "      <td>40</td>\n",
              "      <td>United-States</td>\n",
              "      <td>&lt;=50K</td>\n",
              "      <td>0</td>\n",
              "    </tr>\n",
              "    <tr>\n",
              "      <th>4</th>\n",
              "      <td>28</td>\n",
              "      <td>Private</td>\n",
              "      <td>13</td>\n",
              "      <td>Married-civ-spouse</td>\n",
              "      <td>Prof-specialty</td>\n",
              "      <td>Wife</td>\n",
              "      <td>Black</td>\n",
              "      <td>Female</td>\n",
              "      <td>40</td>\n",
              "      <td>Cuba</td>\n",
              "      <td>&lt;=50K</td>\n",
              "      <td>0</td>\n",
              "    </tr>\n",
              "  </tbody>\n",
              "</table>\n",
              "</div>"
            ],
            "text/plain": [
              "   age         workclass  education-num  ... native-country income capital_last\n",
              "0   39         State-gov             13  ...  United-States  <=50K         2174\n",
              "1   50  Self-emp-not-inc             13  ...  United-States  <=50K            0\n",
              "2   38           Private              9  ...  United-States  <=50K            0\n",
              "3   53           Private              7  ...  United-States  <=50K            0\n",
              "4   28           Private             13  ...           Cuba  <=50K            0\n",
              "\n",
              "[5 rows x 12 columns]"
            ]
          },
          "metadata": {},
          "execution_count": 23
        }
      ]
    },
    {
      "cell_type": "markdown",
      "metadata": {
        "id": "FLafj6h782Pl"
      },
      "source": [
        "# **Verificando maiores influenciadores para o modelo**"
      ]
    },
    {
      "cell_type": "code",
      "metadata": {
        "id": "fX3Vt4smbllQ"
      },
      "source": [
        "# Trasnformando as variáveis categóricas em numéricas.\n",
        "cols = df[df.select_dtypes(['object']).columns]\n",
        "\n",
        "for c in cols:\n",
        "    encoding = LabelEncoder()\n",
        "    encoding.fit(list(df[c].values))\n",
        "    df[c] = encoding.transform(list(df[c].values))\n",
        "df = pd.get_dummies(df)"
      ],
      "execution_count": 24,
      "outputs": []
    },
    {
      "cell_type": "code",
      "metadata": {
        "colab": {
          "base_uri": "https://localhost:8080/",
          "height": 258
        },
        "id": "qQEc4xnwwOZ1",
        "outputId": "601e8dce-cca4-4f78-faa7-4db471ab1375"
      },
      "source": [
        "df.head()"
      ],
      "execution_count": 25,
      "outputs": [
        {
          "output_type": "execute_result",
          "data": {
            "text/html": [
              "<div>\n",
              "<style scoped>\n",
              "    .dataframe tbody tr th:only-of-type {\n",
              "        vertical-align: middle;\n",
              "    }\n",
              "\n",
              "    .dataframe tbody tr th {\n",
              "        vertical-align: top;\n",
              "    }\n",
              "\n",
              "    .dataframe thead th {\n",
              "        text-align: right;\n",
              "    }\n",
              "</style>\n",
              "<table border=\"1\" class=\"dataframe\">\n",
              "  <thead>\n",
              "    <tr style=\"text-align: right;\">\n",
              "      <th></th>\n",
              "      <th>age</th>\n",
              "      <th>workclass</th>\n",
              "      <th>education-num</th>\n",
              "      <th>marital-status</th>\n",
              "      <th>occupation</th>\n",
              "      <th>relationship</th>\n",
              "      <th>race</th>\n",
              "      <th>sex</th>\n",
              "      <th>hours-per-week</th>\n",
              "      <th>native-country</th>\n",
              "      <th>income</th>\n",
              "      <th>capital_last</th>\n",
              "    </tr>\n",
              "  </thead>\n",
              "  <tbody>\n",
              "    <tr>\n",
              "      <th>0</th>\n",
              "      <td>39</td>\n",
              "      <td>6</td>\n",
              "      <td>13</td>\n",
              "      <td>4</td>\n",
              "      <td>0</td>\n",
              "      <td>1</td>\n",
              "      <td>4</td>\n",
              "      <td>1</td>\n",
              "      <td>40</td>\n",
              "      <td>38</td>\n",
              "      <td>0</td>\n",
              "      <td>2174</td>\n",
              "    </tr>\n",
              "    <tr>\n",
              "      <th>1</th>\n",
              "      <td>50</td>\n",
              "      <td>5</td>\n",
              "      <td>13</td>\n",
              "      <td>2</td>\n",
              "      <td>3</td>\n",
              "      <td>0</td>\n",
              "      <td>4</td>\n",
              "      <td>1</td>\n",
              "      <td>13</td>\n",
              "      <td>38</td>\n",
              "      <td>0</td>\n",
              "      <td>0</td>\n",
              "    </tr>\n",
              "    <tr>\n",
              "      <th>2</th>\n",
              "      <td>38</td>\n",
              "      <td>3</td>\n",
              "      <td>9</td>\n",
              "      <td>0</td>\n",
              "      <td>5</td>\n",
              "      <td>1</td>\n",
              "      <td>4</td>\n",
              "      <td>1</td>\n",
              "      <td>40</td>\n",
              "      <td>38</td>\n",
              "      <td>0</td>\n",
              "      <td>0</td>\n",
              "    </tr>\n",
              "    <tr>\n",
              "      <th>3</th>\n",
              "      <td>53</td>\n",
              "      <td>3</td>\n",
              "      <td>7</td>\n",
              "      <td>2</td>\n",
              "      <td>5</td>\n",
              "      <td>0</td>\n",
              "      <td>2</td>\n",
              "      <td>1</td>\n",
              "      <td>40</td>\n",
              "      <td>38</td>\n",
              "      <td>0</td>\n",
              "      <td>0</td>\n",
              "    </tr>\n",
              "    <tr>\n",
              "      <th>4</th>\n",
              "      <td>28</td>\n",
              "      <td>3</td>\n",
              "      <td>13</td>\n",
              "      <td>2</td>\n",
              "      <td>9</td>\n",
              "      <td>5</td>\n",
              "      <td>2</td>\n",
              "      <td>0</td>\n",
              "      <td>40</td>\n",
              "      <td>4</td>\n",
              "      <td>0</td>\n",
              "      <td>0</td>\n",
              "    </tr>\n",
              "  </tbody>\n",
              "</table>\n",
              "</div>"
            ],
            "text/plain": [
              "   age  workclass  education-num  ...  native-country  income  capital_last\n",
              "0   39          6             13  ...              38       0          2174\n",
              "1   50          5             13  ...              38       0             0\n",
              "2   38          3              9  ...              38       0             0\n",
              "3   53          3              7  ...              38       0             0\n",
              "4   28          3             13  ...               4       0             0\n",
              "\n",
              "[5 rows x 12 columns]"
            ]
          },
          "metadata": {},
          "execution_count": 25
        }
      ]
    },
    {
      "cell_type": "code",
      "metadata": {
        "id": "EdbBXGfZ3fHY"
      },
      "source": [
        "# Separando a classe dos Dados.\n",
        "previsores = df.drop('income',axis=1)\n",
        "classe = df['income']"
      ],
      "execution_count": 26,
      "outputs": []
    },
    {
      "cell_type": "code",
      "metadata": {
        "colab": {
          "base_uri": "https://localhost:8080/"
        },
        "id": "phB1dCfg3oM0",
        "outputId": "dd9d5b18-3be9-4247-8b02-2567d8cb9378"
      },
      "source": [
        "clf=RandomForestClassifier(n_estimators=100, random_state=7)\n",
        "clf.fit(previsores, classe)"
      ],
      "execution_count": 27,
      "outputs": [
        {
          "output_type": "execute_result",
          "data": {
            "text/plain": [
              "RandomForestClassifier(bootstrap=True, ccp_alpha=0.0, class_weight=None,\n",
              "                       criterion='gini', max_depth=None, max_features='auto',\n",
              "                       max_leaf_nodes=None, max_samples=None,\n",
              "                       min_impurity_decrease=0.0, min_impurity_split=None,\n",
              "                       min_samples_leaf=1, min_samples_split=2,\n",
              "                       min_weight_fraction_leaf=0.0, n_estimators=100,\n",
              "                       n_jobs=None, oob_score=False, random_state=7, verbose=0,\n",
              "                       warm_start=False)"
            ]
          },
          "metadata": {},
          "execution_count": 27
        }
      ]
    },
    {
      "cell_type": "code",
      "metadata": {
        "colab": {
          "base_uri": "https://localhost:8080/"
        },
        "id": "Svv54mjN34vK",
        "outputId": "38de9f92-d9ee-4872-868b-ce232222bf2e"
      },
      "source": [
        "feature_imp = pd.Series(clf.feature_importances_, index = previsores.columns).sort_values(ascending=False)\n",
        "feature_imp"
      ],
      "execution_count": 28,
      "outputs": [
        {
          "output_type": "execute_result",
          "data": {
            "text/plain": [
              "age               0.214380\n",
              "capital_last      0.171701\n",
              "education-num     0.140173\n",
              "hours-per-week    0.109074\n",
              "relationship      0.104876\n",
              "marital-status    0.083792\n",
              "occupation        0.082170\n",
              "workclass         0.046747\n",
              "native-country    0.018648\n",
              "race              0.018436\n",
              "sex               0.010003\n",
              "dtype: float64"
            ]
          },
          "metadata": {},
          "execution_count": 28
        }
      ]
    },
    {
      "cell_type": "code",
      "metadata": {
        "colab": {
          "base_uri": "https://localhost:8080/",
          "height": 371
        },
        "id": "X9K6tLuc8OFz",
        "outputId": "04248ab9-3a39-4683-f3d4-70f3b7edb0eb"
      },
      "source": [
        "plt.figure(figsize=(8,5))\n",
        "sns.barplot(x= feature_imp, y= feature_imp.index, palette= 'rocket')\n",
        "plt.xlabel('Maiores influenciadores')\n",
        "plt.ylabel('Categorias')\n",
        "plt.title('Visualizando os maiores influenciadores')"
      ],
      "execution_count": 31,
      "outputs": [
        {
          "output_type": "execute_result",
          "data": {
            "text/plain": [
              "Text(0.5, 1.0, 'Visualizando os maiores influenciadores')"
            ]
          },
          "metadata": {},
          "execution_count": 31
        },
        {
          "output_type": "display_data",
          "data": {
            "image/png": "[encoded data removed]",
            "text/plain": [
              "<Figure size 576x360 with 1 Axes>"
            ]
          },
          "metadata": {
            "needs_background": "light"
          }
        }
      ]
    },
    {
      "cell_type": "code",
      "metadata": {
        "colab": {
          "base_uri": "https://localhost:8080/"
        },
        "id": "hyAcJefbBUmg",
        "outputId": "eb0bb6d4-2859-4293-86ae-8aa6debc79ba"
      },
      "source": [
        "# Selecionando os influenciadores de maior importância\n",
        "features_selected = []\n",
        "for feature, importance in feature_imp.iteritems():\n",
        "    if importance > 0.03:\n",
        "        print(f'{feature}: {round(importance * 100)}%')\n",
        "        features_selected.append(feature)"
      ],
      "execution_count": 32,
      "outputs": [
        {
          "output_type": "stream",
          "name": "stdout",
          "text": [
            "age: 21%\n",
            "capital_last: 17%\n",
            "education-num: 14%\n",
            "hours-per-week: 11%\n",
            "relationship: 10%\n",
            "marital-status: 8%\n",
            "occupation: 8%\n",
            "workclass: 5%\n"
          ]
        }
      ]
    }
  ]
}